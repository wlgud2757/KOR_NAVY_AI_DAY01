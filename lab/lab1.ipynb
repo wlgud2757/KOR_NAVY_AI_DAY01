{
  "cells": [
    {
      "cell_type": "markdown",
      "metadata": {
        "id": "GB_dZ4eKDmwA"
      },
      "source": [
        "## 2023 해군 AI 전문인력 양성과정 Day 01: Tutorial 1 (PyThon)\n",
        "### Refernece: UNIST AIGS AI503 Week 1\n",
        "\n",
        "### SOURCE OF THIS TUTORIAL : https://docs.python.org/3/tutorial/introduction.html"
      ]
    },
    {
      "cell_type": "markdown",
      "metadata": {
        "id": "XcHcYc2SBCsY"
      },
      "source": [
        "print function\n",
        "- print(some value you want to see)"
      ]
    },
    {
      "cell_type": "code",
      "execution_count": 5,
      "metadata": {
        "colab": {
          "base_uri": "https://localhost:8080/"
        },
        "id": "15UjtD8rCQUN",
        "outputId": "1d020fcd-53b6-4ff4-a08b-e87a234e08a5"
      },
      "outputs": [
        {
          "name": "stdout",
          "output_type": "stream",
          "text": [
            "Hello world!\n"
          ]
        }
      ],
      "source": [
        "course_name = \"해군 AI 전문인력 양성과정\"\n",
        "### Simple print function\n",
        "print('Hello world!')"
      ]
    },
    {
      "cell_type": "code",
      "execution_count": 6,
      "metadata": {
        "colab": {
          "base_uri": "https://localhost:8080/"
        },
        "id": "PPg5dxWwOyl7",
        "outputId": "b430da42-97f4-4622-907d-ab4a0ac90b49"
      },
      "outputs": [
        {
          "name": "stdout",
          "output_type": "stream",
          "text": [
            "Hello and welcome to 해군 AI 전문인력 양성과정\n"
          ]
        }
      ],
      "source": [
        "### ADD STRING WITH '+' OPERATION\n",
        "print('Hello and welcome to ' + course_name)"
      ]
    },
    {
      "cell_type": "code",
      "execution_count": 7,
      "metadata": {
        "colab": {
          "base_uri": "https://localhost:8080/"
        },
        "id": "RRVRsC-2OziY",
        "outputId": "b17a8e09-1c32-492a-ccfc-726c89408b4f"
      },
      "outputs": [
        {
          "name": "stdout",
          "output_type": "stream",
          "text": [
            "The course's name is \"해군 AI 전문인력 양성과정\"\n"
          ]
        }
      ],
      "source": [
        "print(f'The course\\'s name is \\\"{course_name}\\\"')"
      ]
    },
    {
      "cell_type": "markdown",
      "metadata": {
        "id": "WcxlRgL2DfBV"
      },
      "source": [
        "### Python as a Calculator\n"
      ]
    },
    {
      "cell_type": "code",
      "execution_count": 8,
      "metadata": {
        "colab": {
          "base_uri": "https://localhost:8080/"
        },
        "id": "DUXC3JC7Dfoh",
        "outputId": "5c89b21d-a549-4317-b08c-dcae7bb5c514"
      },
      "outputs": [
        {
          "name": "stdout",
          "output_type": "stream",
          "text": [
            "4\n",
            "20\n",
            "\n",
            "3.6\n",
            "\n",
            "3\n",
            "\n",
            "1\n",
            "\n",
            "100\n",
            "1000\n"
          ]
        }
      ],
      "source": [
        "print(2+2)\n",
        "print(50-5*6)\n",
        "print()\n",
        "\n",
        "## Difference from Python 2 and Python 3 : division always makes the float result\n",
        "print(18/5)\n",
        "print()\n",
        "\n",
        "## Use // for generating integer result after division.\n",
        "print(18//5)\n",
        "print()\n",
        "\n",
        "## % for get the remainder of the division\n",
        "# if k % 10 == 0: (if k can be divided by 10 with 0 remainder, below will be run.)\n",
        "print(101 % 10)\n",
        "print()\n",
        "\n",
        "## ** for power.\n",
        "print(10 ** 2)\n",
        "print(10 ** 3)"
      ]
    },
    {
      "cell_type": "markdown",
      "metadata": {
        "id": "upefgL9eE-HR"
      },
      "source": [
        "### Some useful string operations\n",
        "- s1.split()\n",
        "-s1.join()\n",
        "-s1.lower() and s1.upper()\n",
        "\n",
        "### Indexing in the string (list)\n",
        "```\n",
        " +---+---+---+---+---+---+\n",
        " | P | y | t | h | o | n |\n",
        " +---+---+---+---+---+---+\n",
        "   0   1   2   3   4   5   6\n",
        "  -6  -5  -4  -3  -2  -1\n",
        "```\n",
        "\n",
        "\n"
      ]
    },
    {
      "cell_type": "code",
      "execution_count": 9,
      "metadata": {
        "colab": {
          "base_uri": "https://localhost:8080/"
        },
        "id": "idLcjC3IE-p0",
        "outputId": "396b8261-43e1-479c-b6f0-71a7d4fb98a8"
      },
      "outputs": [
        {
          "name": "stdout",
          "output_type": "stream",
          "text": [
            "['This', 'is', 'the', 'string', 'for', 'you!', '/', 'Thanks', 'a', 'lot']\n",
            "['This is the string for you! ', ' Thanks a lot']\n"
          ]
        }
      ],
      "source": [
        "## Split the string! the default is spliting with space\n",
        "curr_str = \"This is the string for you! / Thanks a lot\"\n",
        "print(curr_str.split())\n",
        "print(curr_str.split('/'))"
      ]
    },
    {
      "cell_type": "code",
      "execution_count": 10,
      "metadata": {
        "colab": {
          "base_uri": "https://localhost:8080/"
        },
        "id": "VkaAUL3KO5PG",
        "outputId": "7e78a596-d0d9-4119-d4b4-37cd5211fafc"
      },
      "outputs": [
        {
          "name": "stdout",
          "output_type": "stream",
          "text": [
            "w h a t i s t h i s\n",
            "whatisthis\n",
            "wHHHhHHHaHHHtHHHiHHHsHHHtHHHhHHHiHHHs\n"
          ]
        }
      ],
      "source": [
        "## Join the strings in the list. s1.join(L) would make L[0] + s1 + L[1] + s1 + ....\n",
        "curr_char = ['w', 'h', 'a', 't', 'i', 's', 't', 'h', 'i', 's']\n",
        "print(' '.join(curr_char))\n",
        "print(''.join(curr_char))\n",
        "print('HHH'.join(curr_char))"
      ]
    },
    {
      "cell_type": "code",
      "execution_count": 11,
      "metadata": {
        "colab": {
          "base_uri": "https://localhost:8080/"
        },
        "id": "tbqz5j-rO66k",
        "outputId": "048d7714-e0a7-4014-de38-0a4ce69d2f7e"
      },
      "outputs": [
        {
          "name": "stdout",
          "output_type": "stream",
          "text": [
            "this is the string for you! / thanks a lot\n",
            "THIS IS THE STRING FOR YOU! / THANKS A LOT\n"
          ]
        }
      ],
      "source": [
        "## String to lower / upper cases\n",
        "curr_str = \"This is the string for you! / Thanks a lot\"\n",
        "print(curr_str.lower())\n",
        "print(curr_str.upper())"
      ]
    },
    {
      "cell_type": "code",
      "execution_count": 12,
      "metadata": {
        "colab": {
          "base_uri": "https://localhost:8080/"
        },
        "id": "0YVjEarFO-F4",
        "outputId": "f73caf0b-9f19-4ec8-904a-5a0e67d11e65"
      },
      "outputs": [
        {
          "name": "stdout",
          "output_type": "stream",
          "text": [
            "T\n",
            "h\n",
            "t\n",
            "o\n"
          ]
        }
      ],
      "source": [
        "## String can be indexed like a list (wait but what is the list?)!\n",
        "curr_str = \"This is the string for you! / Thanks a lot\"\n",
        "print(curr_str[0])\n",
        "print(curr_str[1])\n",
        "print(curr_str[-1])\n",
        "print(curr_str[-2])"
      ]
    },
    {
      "cell_type": "markdown",
      "metadata": {
        "id": "7usbvvjsHCL2"
      },
      "source": [
        "### List in Python : group other values together!\n",
        "- Watch out for the indexing\n",
        "    - it starts from 0 1 2...\n",
        "    - If you want to go backward, it is -1, -2, -3, ....\n",
        "- L[a:b]\n",
        "    - slice the list \"L\" from index `a` to `b-1`. Number of the elements will be `b-a`\n",
        "- L1 + L2\n",
        "    - Concatenating two list L1 and L2\n",
        "- L.append(element)\n",
        "    - Add the element at the end of L. The length of L will be increased.\n",
        "- len(L)\n",
        "    - Number of elements inside the List L\n"
      ]
    },
    {
      "cell_type": "code",
      "execution_count": 14,
      "metadata": {
        "colab": {
          "base_uri": "https://localhost:8080/"
        },
        "id": "M_1yAlD0HCrA",
        "outputId": "c9cee6e7-92b6-4149-98c9-f8f1df0159b7"
      },
      "outputs": [
        {
          "name": "stdout",
          "output_type": "stream",
          "text": [
            "[0, 1, 2, 'a', 'b', 'c'] List can include elements from different types\n",
            "Length of list : 6\n"
          ]
        }
      ],
      "source": [
        "my_list = [0, 1, 2, 'a', 'b','c']\n",
        "your_list = [3, 4, 5, 'd', 'e','f']\n",
        "\n",
        "## len(list_variable) => number of elements in list_variable.\n",
        "print(my_list, 'List can include elements from different types')\n",
        "print('Length of list : {}'.format(len(my_list)))"
      ]
    },
    {
      "cell_type": "code",
      "execution_count": 15,
      "metadata": {
        "colab": {
          "base_uri": "https://localhost:8080/"
        },
        "id": "sVivhbYaPBxx",
        "outputId": "08595fee-8f37-47f9-bc80-85489ea760e5"
      },
      "outputs": [
        {
          "name": "stdout",
          "output_type": "stream",
          "text": [
            "First element:  0\n",
            "Second element:  1\n",
            "Third element:  2\n",
            "Last element:  c\n",
            "Second Last element:  b\n",
            "Third Last element:  a\n"
          ]
        }
      ],
      "source": [
        "## Watch out for orders\n",
        "my_list = [0, 1, 2, 'a', 'b','c']\n",
        "print('First element: ', my_list[0])\n",
        "print('Second element: ', my_list[1])\n",
        "print('Third element: ', my_list[2])\n",
        "\n",
        "print('Last element: ', my_list[-1])\n",
        "print('Second Last element: ', my_list[-2])\n",
        "print('Third Last element: ', my_list[-3])"
      ]
    },
    {
      "cell_type": "code",
      "execution_count": 16,
      "metadata": {
        "colab": {
          "base_uri": "https://localhost:8080/"
        },
        "id": "7PBRkzhzPE8f",
        "outputId": "dd3cee4c-b3d6-4504-d521-69a48b24f4c8"
      },
      "outputs": [
        {
          "name": "stdout",
          "output_type": "stream",
          "text": [
            "Concated List:  [0, 1, 2, 'a', 'b', 'c', 3, 4, 5, 'd', 'e', 'f']\n",
            "\n",
            "List after adding new:  [0, 1, 2, 'a', 'b', 'c', 3, 4, 5, 'd', 'e', 'f', 'NEW FRIEND']\n",
            "\n",
            "List after erasing last:  [0, 1, 2, 'a', 'b', 'c', 3, 4, 5, 'd', 'e', 'f']\n",
            "\n",
            "List after erasing block:  ['a', 'b', 'c', 3, 4, 5, 'd', 'e', 'f']\n",
            "\n",
            "3 is at the 4th order in concat_list\n"
          ]
        }
      ],
      "source": [
        "## adding two list, make concatenation\n",
        "my_list = [0, 1, 2, 'a', 'b','c']\n",
        "your_list = [3, 4, 5, 'd', 'e','f']\n",
        "concat_list = my_list + your_list\n",
        "print('Concated List: ', concat_list)\n",
        "print()\n",
        "\n",
        "## add an element to concat_list\n",
        "concat_list.append('NEW FRIEND')\n",
        "print('List after adding new: ', concat_list)\n",
        "print()\n",
        "\n",
        "## Delete the element of list\n",
        "del concat_list[-1]\n",
        "print('List after erasing last: ', concat_list)\n",
        "print()\n",
        "\n",
        "## Delete the some part of the list\n",
        "concat_list[0:3] = []\n",
        "print('List after erasing block: ', concat_list)\n",
        "print()\n",
        "\n",
        "## find the INDEX of the element!\n",
        "print('3 is at the {}th order in concat_list'.format( concat_list.index(3) + 1 ) )"
      ]
    },
    {
      "cell_type": "code",
      "execution_count": 17,
      "metadata": {
        "colab": {
          "base_uri": "https://localhost:8080/"
        },
        "id": "uhQbY6-rPHQj",
        "outputId": "066e01a0-8409-4601-8472-e3ac78267e25"
      },
      "outputs": [
        {
          "name": "stdout",
          "output_type": "stream",
          "text": [
            "[[0, 1, 2, 'a', 'b', 'c'], [3, 4, 5, 'd', 'e', 'f'], ['new!']]\n",
            "\n"
          ]
        }
      ],
      "source": [
        "## List can contain other list as element\n",
        "my_list = [0, 1, 2, 'a', 'b','c']\n",
        "your_list = [3, 4, 5, 'd', 'e','f']\n",
        "super_list = [my_list, your_list, [\"new!\"]]\n",
        "print(super_list)\n",
        "print()"
      ]
    },
    {
      "cell_type": "markdown",
      "metadata": {
        "id": "9lIdn_sQHEVc"
      },
      "source": [
        "### Dictionary in Python!\n",
        "- map 'key' with 'value'\n",
        "- D['key'] = value"
      ]
    },
    {
      "cell_type": "code",
      "execution_count": 18,
      "metadata": {
        "colab": {
          "base_uri": "https://localhost:8080/"
        },
        "id": "G-zs7_QsKgrw",
        "outputId": "95372de0-0aa5-406a-954a-454872eee3a9"
      },
      "outputs": [
        {
          "name": "stdout",
          "output_type": "stream",
          "text": [
            "Dictionary: \t {'Google': 'Tensorflow', 'Meta': 'PyTorch', 'Apache': 'MXNet'}\n",
            "Keys: \t\t dict_keys(['Google', 'Meta', 'Apache'])\n",
            "Values: \t dict_values(['Tensorflow', 'PyTorch', 'MXNet'])\n"
          ]
        }
      ],
      "source": [
        "## DEFINE SOME DICTIONARY\n",
        "deep_learning_tools = dict()\n",
        "deep_learning_tools['Google'] = 'Tensorflow'\n",
        "deep_learning_tools['Meta'] = 'PyTorch'\n",
        "deep_learning_tools['Apache'] = 'MXNet'\n",
        "\n",
        "print('Dictionary: \\t', deep_learning_tools)\n",
        "print('Keys: \\t\\t', deep_learning_tools.keys())\n",
        "print('Values: \\t', deep_learning_tools.values())"
      ]
    },
    {
      "cell_type": "code",
      "execution_count": 19,
      "metadata": {
        "colab": {
          "base_uri": "https://localhost:8080/"
        },
        "id": "LdIcU5L7PVKd",
        "outputId": "cd720895-1d87-452b-b270-a32dea1bdbba"
      },
      "outputs": [
        {
          "name": "stdout",
          "output_type": "stream",
          "text": [
            "Google \t ---> \t  Tensorflow\n",
            "Meta \t ---> \t  PyTorch\n",
            "Apache \t ---> \t  MXNet\n",
            "Length of this dictionary : 3\n"
          ]
        }
      ],
      "source": [
        "## Iterate with key and values!\n",
        "for k, v in deep_learning_tools.items():\n",
        "    print('{} \\t ---> \\t  {}'.format(k, v))\n",
        "\n",
        "## print the length\n",
        "print('Length of this dictionary : {}'.format(len(deep_learning_tools)))"
      ]
    },
    {
      "cell_type": "markdown",
      "metadata": {
        "id": "h9exIbQwKhG4"
      },
      "source": [
        "### If statement\n",
        "- Consists of **if, elif, else**.\n",
        "```\n",
        "if [some condition] :\n",
        "    do something you want\n",
        "elif [another condition] :\n",
        "    do another thing you want\n",
        "else:\n",
        "    do others you want\n",
        "```\n",
        "- Always add ' : ' !\n",
        "- Grammar real English"
      ]
    },
    {
      "cell_type": "code",
      "execution_count": 20,
      "metadata": {
        "colab": {
          "base_uri": "https://localhost:8080/",
          "height": 269
        },
        "id": "GJU5LEUbNc-F",
        "outputId": "498e6284-fcc5-4910-c816-c0446f1a5ac2"
      },
      "outputs": [
        {
          "name": "stdout",
          "output_type": "stream",
          "text": [
            "Enter your positive integer value! : \n"
          ]
        },
        {
          "ename": "ValueError",
          "evalue": "ignored",
          "output_type": "error",
          "traceback": [
            "\u001b[0;31m---------------------------------------------------------------------------\u001b[0m",
            "\u001b[0;31mValueError\u001b[0m                                Traceback (most recent call last)",
            "\u001b[0;32m<ipython-input-20-90bc0691c66f>\u001b[0m in \u001b[0;36m<cell line: 1>\u001b[0;34m()\u001b[0m\n\u001b[0;32m----> 1\u001b[0;31m \u001b[0minput_int\u001b[0m \u001b[0;34m=\u001b[0m \u001b[0mint\u001b[0m\u001b[0;34m(\u001b[0m\u001b[0minput\u001b[0m\u001b[0;34m(\u001b[0m\u001b[0;34m'Enter your positive integer value! : '\u001b[0m\u001b[0;34m)\u001b[0m\u001b[0;34m)\u001b[0m\u001b[0;34m\u001b[0m\u001b[0;34m\u001b[0m\u001b[0m\n\u001b[0m\u001b[1;32m      2\u001b[0m \u001b[0;32mif\u001b[0m \u001b[0minput_int\u001b[0m \u001b[0;34m<\u001b[0m \u001b[0;36m0\u001b[0m\u001b[0;34m:\u001b[0m\u001b[0;34m\u001b[0m\u001b[0;34m\u001b[0m\u001b[0m\n\u001b[1;32m      3\u001b[0m     \u001b[0mprint\u001b[0m\u001b[0;34m(\u001b[0m\u001b[0;34m'NEGATIVE INTEGER!'\u001b[0m\u001b[0;34m)\u001b[0m\u001b[0;34m\u001b[0m\u001b[0;34m\u001b[0m\u001b[0m\n\u001b[1;32m      4\u001b[0m \u001b[0;32melse\u001b[0m\u001b[0;34m:\u001b[0m\u001b[0;34m\u001b[0m\u001b[0;34m\u001b[0m\u001b[0m\n\u001b[1;32m      5\u001b[0m     \u001b[0;32mif\u001b[0m \u001b[0minput_int\u001b[0m \u001b[0;34m%\u001b[0m \u001b[0;36m5\u001b[0m \u001b[0;34m==\u001b[0m \u001b[0;36m0\u001b[0m\u001b[0;34m:\u001b[0m\u001b[0;34m\u001b[0m\u001b[0;34m\u001b[0m\u001b[0m\n",
            "\u001b[0;31mValueError\u001b[0m: invalid literal for int() with base 10: ''"
          ]
        }
      ],
      "source": [
        "input_int = int(input('Enter your positive integer value! : '))\n",
        "if input_int < 0:\n",
        "    print('NEGATIVE INTEGER!')\n",
        "else:\n",
        "    if input_int % 5 == 0:\n",
        "        print('This integer can be divided by 5')\n",
        "    elif input_int % 5 == 1:\n",
        "        print('This integer leaves 1 after divided by 5')\n",
        "    else:\n",
        "        print('This interger leaves value larger than 1 after divided by 5')\n"
      ]
    },
    {
      "cell_type": "markdown",
      "metadata": {
        "id": "fx3n3HSmNdV3"
      },
      "source": [
        "### For statement and RANGE\n",
        "```\n",
        "for (something) in (something that can be iterated):\n",
        "    do what you want with (something)\n",
        "```\n",
        "```\n",
        "for idx in range(start, end, stride):\n",
        "    idx would be start, start+stride, start+2*stride .....\n",
        "```\n",
        "* Always add ' : ' !\n",
        "* Grammar like English"
      ]
    },
    {
      "cell_type": "code",
      "execution_count": 21,
      "metadata": {
        "colab": {
          "base_uri": "https://localhost:8080/"
        },
        "id": "K0h3p5jHKhRw",
        "outputId": "839b1b63-3de9-46fb-a712-f214dda1acd3"
      },
      "outputs": [
        {
          "name": "stdout",
          "output_type": "stream",
          "text": [
            "a\n",
            "b\n",
            "c\n",
            "d\n",
            "e\n",
            "f\n",
            "g\n",
            "h\n",
            "i\n",
            "\n",
            "0 a\n",
            "1 b\n",
            "2 c\n",
            "3 d\n",
            "4 e\n",
            "5 f\n",
            "6 g\n",
            "7 h\n",
            "8 i\n"
          ]
        }
      ],
      "source": [
        "alphabet = ['a', 'b', 'c', 'd', 'e', 'f', 'g', 'h', 'i']\n",
        "### iterate elements in \"alphabet\"\n",
        "for ch in alphabet:\n",
        "    print(ch)\n",
        "print()\n",
        "\n",
        "### iterate elements in \"alphabet\" with index information\n",
        "for char_idx, char in enumerate(alphabet):\n",
        "    print(char_idx, char)"
      ]
    },
    {
      "cell_type": "code",
      "execution_count": 22,
      "metadata": {
        "colab": {
          "base_uri": "https://localhost:8080/"
        },
        "id": "84zOzlaJ7ZJp",
        "outputId": "6cc28fe6-1e0d-4155-f802-7de73c7ff239"
      },
      "outputs": [
        {
          "name": "stdout",
          "output_type": "stream",
          "text": [
            "5\n",
            "4\n",
            "3\n",
            "2\n",
            "1\n"
          ]
        }
      ],
      "source": [
        "for i in range(5, 0, -1):\n",
        "    print(i)"
      ]
    },
    {
      "cell_type": "code",
      "execution_count": 23,
      "metadata": {
        "colab": {
          "base_uri": "https://localhost:8080/"
        },
        "id": "xPwf_04ePf7p",
        "outputId": "edde42b1-fd73-4c3d-b74c-befb116ca02a"
      },
      "outputs": [
        {
          "name": "stdout",
          "output_type": "stream",
          "text": [
            "f\n",
            "e\n",
            "d\n",
            "c\n",
            "b\n",
            "\n",
            "['f', 'e', 'd', 'c', 'b']\n",
            "f\n",
            "e\n",
            "d\n",
            "c\n",
            "b\n",
            "Last character was : b\n"
          ]
        }
      ],
      "source": [
        "start_idx = 5\n",
        "end_idx = 0\n",
        "stride = -1\n",
        "alphabet = ['a', 'b', 'c', 'd', 'e', 'f', 'g', 'h', 'i']\n",
        "\n",
        "### iterate elements using \"range\"\n",
        "for idx in range(start_idx, end_idx, stride):\n",
        "    print(alphabet[idx])\n",
        "print()\n",
        "\n",
        "### iterate elements using index information directly.\n",
        "print(alphabet[start_idx:end_idx:stride])\n",
        "for char in alphabet[start_idx:end_idx:stride]:\n",
        "    print(char)\n",
        "\n",
        "print('Last character was : ' + char)"
      ]
    },
    {
      "cell_type": "code",
      "execution_count": 24,
      "metadata": {
        "colab": {
          "base_uri": "https://localhost:8080/"
        },
        "id": "eKXJFuPrPjle",
        "outputId": "7e6ace83-52dd-4cfb-de32-f45b45323fc9"
      },
      "outputs": [
        {
          "name": "stdout",
          "output_type": "stream",
          "text": [
            "0\n",
            "1\n",
            "2\n",
            "3\n",
            "4\n",
            "5\n",
            "6\n",
            "7\n",
            "8\n",
            "9\n",
            "10\n",
            "11\n",
            "12\n",
            "13\n",
            "14\n",
            "I want this number : 15\n"
          ]
        }
      ],
      "source": [
        "for i in range(2):\n",
        "    for j in range(10):\n",
        "        value = i * 10 + j\n",
        "        if i == 1 and j == 5:\n",
        "            print('I want this number : '+str(value))\n",
        "            break\n",
        "        else:\n",
        "            print(value)"
      ]
    },
    {
      "cell_type": "code",
      "execution_count": 25,
      "metadata": {
        "colab": {
          "base_uri": "https://localhost:8080/"
        },
        "id": "fs6sHxhbRlcd",
        "outputId": "dc290c38-8520-4ea7-dff9-ea9739424eb6"
      },
      "outputs": [
        {
          "name": "stdout",
          "output_type": "stream",
          "text": [
            "[0, 1, 2, 3, 4, 5, 6, 7, 8, 9]\n",
            "[0, 2, 4, 6, 8]\n",
            "[1, 9, 25, 49, 81]\n"
          ]
        }
      ],
      "source": [
        "## Some tricks to make a list\n",
        "print([x for x in range(10)])\n",
        "print([x for x in range(10) if x % 2 == 0])\n",
        "print([x**2 for x in range(10) if x % 2 == 1])"
      ]
    },
    {
      "cell_type": "code",
      "execution_count": 26,
      "metadata": {
        "colab": {
          "base_uri": "https://localhost:8080/"
        },
        "id": "SXSl_1HGPntR",
        "outputId": "cd4b26e2-781b-4b44-bd54-b3faf095cf2b"
      },
      "outputs": [
        {
          "name": "stdout",
          "output_type": "stream",
          "text": [
            "Current List :  [2, 5, 1, 3, 0, 8, 9, 9, 10, 10]\n",
            "Sum of list : 57\n",
            "Max of list : 10\n",
            "Min of list : 0\n",
            "Sorted List :  [0, 1, 2, 3, 5, 8, 9, 9, 10, 10]\n",
            "Unique set :  {0, 1, 2, 3, 5, 8, 9, 10}\n"
          ]
        }
      ],
      "source": [
        "## Some useful operations for the list\n",
        "curr_list = [2, 5, 1, 3, 0, 8, 9, 9, 10, 10]\n",
        "# curr_list = ['b', 'd', 't', 's', 'h', 'a']\n",
        "print('Current List : ', curr_list)\n",
        "print('Sum of list : {}'.format(sum(curr_list)))\n",
        "print('Max of list : {}'.format(max(curr_list)))\n",
        "print('Min of list : {}'.format(min(curr_list)))\n",
        "print('Sorted List : ', sorted(curr_list))\n",
        "print('Unique set : ', set(curr_list))"
      ]
    },
    {
      "cell_type": "markdown",
      "metadata": {
        "id": "mTN2aG2zHEhn"
      },
      "source": [
        "### While statement\n",
        "```\n",
        "while (some condition to keep this while loop) :\n",
        "    do something you want\n",
        "```"
      ]
    },
    {
      "cell_type": "code",
      "execution_count": 27,
      "metadata": {
        "colab": {
          "base_uri": "https://localhost:8080/"
        },
        "id": "0n2xqZI2T9Kw",
        "outputId": "486e2c5a-faea-4966-e51a-d9056489ec2b"
      },
      "outputs": [
        {
          "name": "stdout",
          "output_type": "stream",
          "text": [
            "Current Counter :  0\n",
            "Current Counter :  1\n",
            "Current Counter :  2\n",
            "Current Counter :  3\n",
            "Current Counter :  4\n",
            "Current Counter :  5\n",
            "STOP\n",
            "Final Counter :  5\n"
          ]
        }
      ],
      "source": [
        "cnt = 0\n",
        "limit = 10\n",
        "middle_point = 5\n",
        "\n",
        "while cnt < limit:\n",
        "    print('Current Counter : ', cnt)\n",
        "    if cnt is middle_point:\n",
        "        print('STOP')\n",
        "        break\n",
        "    # always care about infinite loop!\n",
        "    cnt += 1\n",
        "\n",
        "print('Final Counter : ', cnt)"
      ]
    },
    {
      "cell_type": "markdown",
      "metadata": {
        "id": "3-g8AAI9T9R3"
      },
      "source": [
        "\n",
        "### Function Definition\n",
        "```\n",
        "def Name_of_Function(input1, input2, input3, ...) :\n",
        "    do something with input1, input2, input3,...\n",
        "    return something_you_want\n",
        "```"
      ]
    },
    {
      "cell_type": "code",
      "execution_count": 28,
      "metadata": {
        "id": "pZOYBcZGUuBB"
      },
      "outputs": [],
      "source": [
        "def Fibonacci(index):\n",
        "    '''\n",
        "    input : Generate a list until (index)-th of Fibonacci number.\n",
        "    '''\n",
        "    result = [1, 1]\n",
        "    if index < 1:\n",
        "        raise ValueError('Give the valid index, please')\n",
        "        return []\n",
        "\n",
        "    elif 1 <= index <= 2:\n",
        "        return result[:index]\n",
        "\n",
        "    else:\n",
        "        result = [1, 1]\n",
        "        for i in range(index-2):\n",
        "            result.append(result[-1]+result[-2])\n",
        "\n",
        "    return result"
      ]
    },
    {
      "cell_type": "code",
      "execution_count": 30,
      "metadata": {
        "colab": {
          "base_uri": "https://localhost:8080/"
        },
        "id": "T4cr2IV4UuIa",
        "outputId": "8febf2aa-dfd8-4aa5-e72a-8554651e4d75"
      },
      "outputs": [
        {
          "name": "stdout",
          "output_type": "stream",
          "text": [
            "Which order of Fibonacci number you want? : 1\n",
            "[1]\n"
          ]
        }
      ],
      "source": [
        "inp_index = int(input('Which order of Fibonacci number you want? : '))\n",
        "print(Fibonacci(inp_index))"
      ]
    },
    {
      "cell_type": "markdown",
      "metadata": {
        "id": "7lCxDwjxHEsa"
      },
      "source": [
        "### Class Definition\n",
        "```\n",
        "class ClassName(ParentClass):\n",
        "    def __init__(self, inp1, inp2, ...):\n",
        "        self.inp1 = inp1\n",
        "        self.inp2 = inp2\n",
        "        ...\n",
        "\n",
        "    def some_function_you_want(self, inp3, inp4):\n",
        "        return something_you_want\n",
        "```"
      ]
    },
    {
      "cell_type": "code",
      "execution_count": 31,
      "metadata": {
        "id": "IVFLbLj6XZ42"
      },
      "outputs": [],
      "source": [
        "class RockBand(object):\n",
        "    def __init__(self, name, num_members, start_year):\n",
        "        self.name = name\n",
        "        self.num_members = num_members\n",
        "        self.start_year = start_year\n",
        "        print('{} band created!'.format(self.name))\n",
        "\n",
        "    def add_new_member(self):\n",
        "        print('One member added to {}.'.format(self.name))\n",
        "        self.num_members += 1\n",
        "\n",
        "    def remove_one_member(self):\n",
        "        print('One member left from {}.'.format(self.name))\n",
        "        self.num_members -= 1\n",
        "\n",
        "    def change_name(self, new_name):\n",
        "        print('Band will change their name from {} to {}'.format(self.name, new_name))\n",
        "        self.name = new_name\n",
        "\n",
        "    def __str__(self):\n",
        "        return 'Band named %s, has %d members, and started from %d.' % (self.name, self.num_members, self.start_year)"
      ]
    },
    {
      "cell_type": "code",
      "execution_count": 32,
      "metadata": {
        "colab": {
          "base_uri": "https://localhost:8080/"
        },
        "id": "eusxct9lYl_P",
        "outputId": "57f1bf2b-7432-4f81-c5b4-f214e036acfe"
      },
      "outputs": [
        {
          "name": "stdout",
          "output_type": "stream",
          "text": [
            "Queen band created!\n",
            "Band named Queen, has 4 members, and started from 1970.\n",
            "Led Zeppelin band created!\n",
            "Band named Led Zeppelin, has 4 members, and started from 1968.\n",
            "One member left from Queen.\n",
            "One member added to Queen.\n",
            "Band will change their name from Queen to King\n",
            "Band named King, has 4 members, and started from 1970.\n"
          ]
        }
      ],
      "source": [
        "queen = RockBand('Queen', 4, 1970)\n",
        "print(queen)\n",
        "#\n",
        "led_zeppelin = RockBand('Led Zeppelin', 4, 1968)\n",
        "print(led_zeppelin)\n",
        "\n",
        "queen.remove_one_member()\n",
        "queen.add_new_member()\n",
        "queen.change_name('King')\n",
        "print(queen)"
      ]
    },
    {
      "cell_type": "code",
      "execution_count": null,
      "metadata": {
        "id": "t2QTAZ_z-pgb"
      },
      "outputs": [],
      "source": []
    }
  ],
  "metadata": {
    "colab": {
      "provenance": []
    },
    "kernelspec": {
      "display_name": "Python 3",
      "name": "python3"
    }
  },
  "nbformat": 4,
  "nbformat_minor": 0
}
